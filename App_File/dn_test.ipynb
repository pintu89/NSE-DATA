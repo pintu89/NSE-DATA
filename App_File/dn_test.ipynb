{
 "cells": [
  {
   "cell_type": "code",
   "execution_count": 28,
   "id": "9956e51e",
   "metadata": {},
   "outputs": [],
   "source": [
    "import pandas as pd\n",
    "import Read_file as rf\n",
    "import pandas_market_calendars as macl\n",
    "import yfinance as yf\n",
    "import datetime as dt\n"
   ]
  },
  {
   "cell_type": "code",
   "execution_count": 29,
   "id": "eeb71538",
   "metadata": {},
   "outputs": [],
   "source": [
    "def yf_data(symbol, st_date=None, en_date=None, period=None):\n",
    "        if st_date is None:\n",
    "            st_date = dt.datetime.now() - dt.timedelta(days=59)\n",
    "            h_data = yf.download(symbol, start=st_date, end=en_date, period=period, interval='5m')\n",
    "        return h_data"
   ]
  },
  {
   "cell_type": "code",
   "execution_count": 30,
   "id": "b45512e2",
   "metadata": {},
   "outputs": [],
   "source": [
    "data = rf.Read_xlsx_File.Read_xlsx_File(\"../Data_File/sym_data/NIFTY.xlsx\", int(input(\"0 = NFITY50\\n1 = NIFTY100\\n2 = NFITY200\\n3 = NIFTY-NEXT50\\n4 = Please inter your symbols in Port_folio1 and numbers are continues.5 6 7\\n Please enter your Choice: \")))\n",
    "symbols = rf.Read_xlsx_File.symbols(data)\n",
    "sym = symbols[:5]"
   ]
  },
  {
   "cell_type": "code",
   "execution_count": 31,
   "id": "d8915bae",
   "metadata": {},
   "outputs": [
    {
     "ename": "NameError",
     "evalue": "name 'self' is not defined",
     "output_type": "error",
     "traceback": [
      "\u001b[1;31m---------------------------------------------------------------------------\u001b[0m",
      "\u001b[1;31mNameError\u001b[0m                                 Traceback (most recent call last)",
      "Cell \u001b[1;32mIn[31], line 2\u001b[0m\n\u001b[0;32m      1\u001b[0m \u001b[38;5;28;01mfor\u001b[39;00m symbol \u001b[38;5;129;01min\u001b[39;00m sym:\n\u001b[1;32m----> 2\u001b[0m     data \u001b[38;5;241m=\u001b[39m data \u001b[38;5;241m=\u001b[39m \u001b[38;5;28;43mself\u001b[39;49m\u001b[38;5;241m.\u001b[39myf_dn_obj\u001b[38;5;241m.\u001b[39myf_data(symbol\u001b[38;5;241m=\u001b[39msymbol)\n",
      "\u001b[1;31mNameError\u001b[0m: name 'self' is not defined"
     ]
    }
   ],
   "source": [
    "yf_dn_obj = yf_dn.yf_data\n",
    "\n",
    "for symbol in sym:\n",
    "    data = data = yf_dn_obj.yf_data(symbol=symbol)\n"
   ]
  },
  {
   "cell_type": "code",
   "execution_count": null,
   "id": "dcc51919",
   "metadata": {},
   "outputs": [],
   "source": []
  }
 ],
 "metadata": {
  "kernelspec": {
   "display_name": "Python 3 (ipykernel)",
   "language": "python",
   "name": "python3"
  },
  "language_info": {
   "codemirror_mode": {
    "name": "ipython",
    "version": 3
   },
   "file_extension": ".py",
   "mimetype": "text/x-python",
   "name": "python",
   "nbconvert_exporter": "python",
   "pygments_lexer": "ipython3",
   "version": "3.11.7"
  }
 },
 "nbformat": 4,
 "nbformat_minor": 5
}
