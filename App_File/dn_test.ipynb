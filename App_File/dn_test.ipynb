{
 "cells": [
  {
   "cell_type": "code",
   "execution_count": null,
   "id": "9956e51e",
   "metadata": {},
   "outputs": [],
   "source": [
    "%run E:/Code_Play/My_App/App_File/main.py"
   ]
  },
  {
   "cell_type": "code",
   "execution_count": null,
   "id": "9d9fbdfd",
   "metadata": {},
   "outputs": [],
   "source": [
    "dt5[symbol][[f'EMA_{sma_low}',f'EMA_{sma_high}',f'SMA_{sma_low}', f'SMA_{sma_high}', f'RSI_{period}']]"
   ]
  },
  {
   "cell_type": "code",
   "execution_count": null,
   "id": "01fc3a19",
   "metadata": {},
   "outputs": [],
   "source": [
    "def golden_cross_strategy(data, sma_low, sma_high): # golden cross strategy is not working.\n",
    "    # Generate signals\n",
    "    data['Buy'] = 0\n",
    "    data['Sell'] = 0\n",
    "    buy_flag = False\n",
    "    sell_flag = False\n",
    "    \n",
    "    for i in range(len(data)):\n",
    "        if not buy_flag:\n",
    "            # Check for Golden Cross\n",
    "            if data[f'SMA_{sma_low}'].iloc[i] > data[f'SMA_{sma_high}'].iloc[i]:\n",
    "                data.at[data.index[i], 'Buy'] = 1\n",
    "                buy_flag = True\n",
    "        else:\n",
    "            # Check for Death Cross\n",
    "            if data[f'SMA_{sma_high}'].iloc[i] > data[f'SMA_{sma_low}'].iloc[i]:\n",
    "                data.at[data.index[i], 'Sell'] = -1\n",
    "                buy_flag = False\n",
    "    \n",
    "    return data\n"
   ]
  },
  {
   "cell_type": "code",
   "execution_count": null,
   "id": "1d92bf35",
   "metadata": {},
   "outputs": [],
   "source": [
    "\n",
    "for symbol in symbols:\n",
    "    try:\n",
    "        print(dt5[symbol][[f'EMA_{sma_low}',f'EMA_{sma_high}',f'SMA_{sma_low}', f'SMA_{sma_high}', f'RSI_{period}']])\n",
    "        sig1 = golden_cross_strategy(dt5[symbol], sma_low, sma_high)\n",
    "        total_gain1, final_wealth1 = calculate_wealth(sig1, dt5[symbol], wealth)\n",
    "        plot_signals(dt5, symbol)\n",
    "    except FileNotFoundError:\n",
    "        print(f\"File for {symbol} not found.\")"
   ]
  },
  {
   "cell_type": "code",
   "execution_count": null,
   "id": "2064f7d8",
   "metadata": {},
   "outputs": [],
   "source": []
  },
  {
   "cell_type": "code",
   "execution_count": null,
   "id": "9be00e30",
   "metadata": {},
   "outputs": [],
   "source": [
    "breakpoint"
   ]
  },
  {
   "cell_type": "code",
   "execution_count": null,
   "id": "42dc2337",
   "metadata": {},
   "outputs": [],
   "source": []
  },
  {
   "cell_type": "code",
   "execution_count": null,
   "id": "2a1340e9",
   "metadata": {},
   "outputs": [],
   "source": []
  },
  {
   "cell_type": "code",
   "execution_count": null,
   "id": "3778f0fe",
   "metadata": {},
   "outputs": [],
   "source": []
  },
  {
   "cell_type": "code",
   "execution_count": null,
   "id": "561d2260",
   "metadata": {},
   "outputs": [],
   "source": [
    "wealth = 500\n",
    "sma_low = 50\n",
    "sma_high = 200\n",
    "ema_low = 10\n",
    "ema_high = 50\n",
    "period = 14\n",
    "dt5 = {}\n",
    "for symbol in sym:\n",
    "    tech_model = td.Tech_model()\n",
    "    try:\n",
    "        # Assuming the file names are in the format 'hisdata/symbol.xlsx'\n",
    "        file = f\"{file_path}/{symbol}.xlsx\"\n",
    "        Hdata = rf.Read_xlsx_File.Read_xlsx_File(file)\n",
    "        # Do something with Hdata\n",
    "        #SMA\n",
    "        low_sma, high_sma = tech_model.SMA(df=Hdata, low_timeperiod=sma_low, high_timeperiod=sma_high)\n",
    "        #EMA\n",
    "        #low_ema, high_ema = tech_model.EMA(df=data, low_timeperiod=ema_low, high_timeperiod=ema_high)    \n",
    "        #RSI\n",
    "        rsi = tech_model.RSI(df=Hdata, window=period)\n",
    "        #Position of Up or Down.\n",
    "        Hdata['Position'] = Hdata.apply(tech_model.Perpus, axis=1)\n",
    "        # Dropping empty values and converting to dictionary.\n",
    "        Hdata.dropna(inplace=True)\n",
    "        columns = ['Adj Close']\n",
    "        dt5[symbol] = Hdata\n",
    "        #Call the function to get signals for each symbol.    \n",
    "        sig1 = golden_cross_strategy(dt5[symbol], sma_low, sma_high)\n",
    "        #sig2 = rsi_strategy(dt5[symbol],period)\n",
    "        total_gain1, final_wealth1 = calculate_wealth(sig1, dt5[symbol], wealth)\n",
    "        #total_gain2, final_wealth2 = calculate_wealth(sig2, dt5[symbol], wealth)\n",
    "        print(f\"Total gain in wealth by :{symbol} Rs. {total_gain1}, {final_wealth1}\")\n",
    "        #plot_signals(dt5, symbol)\n",
    "        \n",
    "    except FileNotFoundError:\n",
    "        pass\n",
    "        #print(f\"File for {symbol} not found.\")"
   ]
  },
  {
   "cell_type": "code",
   "execution_count": null,
   "id": "ca6e91ae",
   "metadata": {},
   "outputs": [],
   "source": []
  },
  {
   "cell_type": "code",
   "execution_count": null,
   "id": "379b4d0c",
   "metadata": {},
   "outputs": [],
   "source": []
  }
 ],
 "metadata": {
  "kernelspec": {
   "display_name": "Python 3 (ipykernel)",
   "language": "python",
   "name": "python3"
  },
  "language_info": {
   "codemirror_mode": {
    "name": "ipython",
    "version": 3
   },
   "file_extension": ".py",
   "mimetype": "text/x-python",
   "name": "python",
   "nbconvert_exporter": "python",
   "pygments_lexer": "ipython3",
   "version": "3.11.7"
  }
 },
 "nbformat": 4,
 "nbformat_minor": 5
}
