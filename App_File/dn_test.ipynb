{
 "cells": [
  {
   "cell_type": "code",
   "execution_count": null,
   "id": "9956e51e",
   "metadata": {},
   "outputs": [],
   "source": [
    "import pandas as pd\n",
    "import Read_file as rf\n",
    "import datetime as dt\n",
    "import Dn_dt as dn\n",
    "import Tech_Indi as td"
   ]
  },
  {
   "cell_type": "code",
   "execution_count": null,
   "id": "b45512e2",
   "metadata": {},
   "outputs": [],
   "source": [
    "data = rf.Read_xlsx_File.Read_xlsx_File(\"../Data_File/sym_data/NIFTY.xlsx\", int(input(\"0 = NFITY50\\n1 = NIFTY100\\n2 = NFITY200\\n3 = NIFTY-NEXT50\\n4 = Please inter your symbols in Port_folio1 and numbers are continues.5 6 7\\n Please enter your Choice: \")))\n",
    "symbols = rf.Read_xlsx_File.symbols(data)\n",
    "sym = symbols[:5]"
   ]
  },
  {
   "cell_type": "code",
   "execution_count": null,
   "id": "e8985c3d",
   "metadata": {},
   "outputs": [],
   "source": [
    "Tfile = input(\"0: historical_data,\\n1: 5min_data,\\nEnter your choice: \")\n",
    "file_path = \"../Data_File/hisdata\"\n",
    "if Tfile == \"0\":\n",
    "    file_path = \"../Data_File/hisdata/hdata/\"\n",
    "elif Tfile == \"1\":\n",
    "    file_path = \"../Data_File/hisdata/5min_data\"\n",
    "else:\n",
    "    pass\n",
    "file_path "
   ]
  },
  {
   "cell_type": "code",
   "execution_count": null,
   "id": "561d2260",
   "metadata": {},
   "outputs": [],
   "source": [
    "sma_low = 10\n",
    "sma_high = 27\n",
    "ema_low = 7\n",
    "ema_high = 15\n",
    "period = 14\n",
    "dt5 = {}\n",
    "for symbol in symbols:\n",
    "    tech_model = td.Tech_model()\n",
    "    try:\n",
    "        # Assuming the file names are in the format 'hisdata/symbol.xlsx'\n",
    "        file = f\"{file_path}/{symbol}.xlsx\"\n",
    "        Hdata = rf.Read_xlsx_File.Read_xlsx_File(file)\n",
    "        # Do something with Hdata\n",
    "        #SMA\n",
    "        low_sma, high_sma = tech_model.SMA(df=Hdata, low_timeperiod=sma_low, high_timeperiod=sma_high)\n",
    "        #EMA\n",
    "        low_ema, high_ema = tech_model.EMA(df=Hdata, low_timeperiod=ema_low, high_timeperiod=ema_high)\n",
    "        #RSI\n",
    "        rsi = tech_model.RSI(df=Hdata, window=period)\n",
    "        #Position of Up or Down.\n",
    "        Hdata['Position'] = Hdata.apply(tech_model.Perpus, axis=1)\n",
    "         # Dropping empty values and converting to dictionary.\n",
    "        Hdata.dropna(inplace=True)\n",
    "        columns = ['Adj Close']\n",
    "        dt5[symbol] = Hdata\n",
    "    except FileNotFoundError:\n",
    "        pass\n",
    "        #print(f\"File for {symbol} not found.\")"
   ]
  },
  {
   "cell_type": "code",
   "execution_count": null,
   "id": "a756d280",
   "metadata": {},
   "outputs": [],
   "source": [
    "dt5_df = pd.DataFrame.from_dict(dt5)\n",
    "dt5_df"
   ]
  },
  {
   "cell_type": "code",
   "execution_count": null,
   "id": "d3df98b6",
   "metadata": {},
   "outputs": [],
   "source": [
    "\n",
    "\n",
    "# Calculate buy and sell signals based on moving average crossover\n",
    "def generate_signals(data):\n",
    "    signals = pd.DataFrame(index=data.index)\n",
    "    signals['Buy'] = 0\n",
    "    signals['Sell'] = 0\n",
    "\n",
    "    # Generate signals based on moving average crossover\n",
    "    signals['Buy'][data['SMA_10'] > data['SMA_27']] = 1\n",
    "    signals['Sell'][data['SMA_10'] < data['SMA_27']] = -1\n",
    "\n",
    "    return signals\n",
    "\n",
    "# Apply the function to generate signals\n",
    "signals = generate_signals(dt5_df)\n",
    "\n",
    "# Display the signals\n",
    "print(signals)\n"
   ]
  },
  {
   "cell_type": "code",
   "execution_count": null,
   "id": "879ac9d0",
   "metadata": {},
   "outputs": [],
   "source": [
    "hellow"
   ]
  },
  {
   "cell_type": "markdown",
   "id": "86aa4025",
   "metadata": {},
   "source": [
    "## TODO: \n",
    "    RSI and MACD Or Bollinger Bands Strategy."
   ]
  },
  {
   "cell_type": "code",
   "execution_count": null,
   "id": "d8915bae",
   "metadata": {},
   "outputs": [],
   "source": [
    "sma_low = 10\n",
    "sma_high = 27\n",
    "ema_low = 7\n",
    "ema_high = 15\n",
    "period = 14\n",
    "yf_dn_obj = dn.yf_dn.yf_data\n",
    "dt5 = {}\n",
    "for symbol in sym:\n",
    "    data = yf_dn_obj(self = symbol, symbol=symbol)\n",
    "    #Technical Indicators\n",
    "    tech_model = td.Tech_model()\n",
    "    \n",
    "    #SMA\n",
    "    low_sma, high_sma = tech_model.SMA(df=data, low_timeperiod=sma_low, high_timeperiod=sma_high)\n",
    "    #EMA\n",
    "    low_ema, high_ema = tech_model.EMA(df=data, low_timeperiod=ema_low, high_timeperiod=ema_high)\n",
    "    #RSI\n",
    "    rsi = tech_model.RSI(df=data, window=period)\n",
    "    #Position of Up or Down.\n",
    "    data['Position'] = data.apply(tech_model.Perpus, axis=1)\n",
    "    \n",
    "    # Dropping empty values and converting to dictionary.\n",
    "    data.dropna(inplace=True)\n",
    "    columns = ['Adj Close']\n",
    "    data.drop(columns=columns, inplace=True)\n",
    "    dt5[symbol] = data\n",
    "    '''\n",
    "    # FIXME: Plotting This is working for ploting data with different symbols wise data.\n",
    "    plt.figure(figsize=(10, 6))\n",
    "    plt.plot(data.index, data[\"Close\"], label='Close Price', color='blue')\n",
    "    #plt.plot(data.index, data[\"Low\"], label='Low Price', color='black')\n",
    "    plt.plot(data.index, data[f'SMA{sma_low}'], label=f'SMA{sma_low}', color='red')\n",
    "    plt.plot(data.index, data[f'SMA{sma_high}'], label=f'SMA{sma_high}', color='green')\n",
    "    plt.plot(data.index, data[f'EMA{ema_low}'], label=f'EMA{ema_low}', color='orange')\n",
    "    plt.plot(data.index, data[f'EMA{ema_high}'], label=f'EMA{ema_high}', color='purple')\n",
    "    plt.title(f'{symbol} Close Price with SMAs and EMAs')\n",
    "    plt.xlabel('Date')\n",
    "    plt.ylabel('Price')\n",
    "    plt.legend()\n",
    "    plt.show()\n",
    "    '''\n"
   ]
  },
  {
   "cell_type": "code",
   "execution_count": null,
   "id": "223b5afe",
   "metadata": {},
   "outputs": [],
   "source": [
    "print (len(dt5['COALINDIA.NS']))"
   ]
  },
  {
   "cell_type": "code",
   "execution_count": null,
   "id": "72151a30",
   "metadata": {},
   "outputs": [],
   "source": []
  },
  {
   "cell_type": "code",
   "execution_count": null,
   "id": "a01b4f40",
   "metadata": {},
   "outputs": [],
   "source": []
  },
  {
   "cell_type": "code",
   "execution_count": null,
   "id": "2ad1e64e",
   "metadata": {},
   "outputs": [],
   "source": []
  }
 ],
 "metadata": {
  "kernelspec": {
   "display_name": "Python 3 (ipykernel)",
   "language": "python",
   "name": "python3"
  },
  "language_info": {
   "codemirror_mode": {
    "name": "ipython",
    "version": 3
   },
   "file_extension": ".py",
   "mimetype": "text/x-python",
   "name": "python",
   "nbconvert_exporter": "python",
   "pygments_lexer": "ipython3",
   "version": "3.11.7"
  }
 },
 "nbformat": 4,
 "nbformat_minor": 5
}
