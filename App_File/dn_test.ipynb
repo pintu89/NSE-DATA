{
 "cells": [
  {
   "cell_type": "code",
   "execution_count": 1,
   "id": "9956e51e",
   "metadata": {},
   "outputs": [
    {
     "name": "stderr",
     "output_type": "stream",
     "text": [
      "c:\\Users\\HP\\OneDrive\\Code_Play\\Lib\\site-packages\\yfinance\\base.py:48: FutureWarning: The default dtype for empty Series will be 'object' instead of 'float64' in a future version. Specify a dtype explicitly to silence this warning.\n",
      "  _empty_series = pd.Series()\n"
     ]
    }
   ],
   "source": [
    "import pandas as pd\n",
    "import Read_file as rf\n",
    "import datetime as dt\n",
    "import Dn_dt as dn\n",
    "import pandas_ta as ta"
   ]
  },
  {
   "cell_type": "code",
   "execution_count": 2,
   "id": "b45512e2",
   "metadata": {},
   "outputs": [],
   "source": [
    "data = rf.Read_xlsx_File.Read_xlsx_File(\"../Data_File/sym_data/NIFTY.xlsx\", int(input(\"0 = NFITY50\\n1 = NIFTY100\\n2 = NFITY200\\n3 = NIFTY-NEXT50\\n4 = Please inter your symbols in Port_folio1 and numbers are continues.5 6 7\\n Please enter your Choice: \")))\n",
    "symbols = rf.Read_xlsx_File.symbols(data)\n",
    "sym = symbols[:5]"
   ]
  },
  {
   "cell_type": "code",
   "execution_count": 18,
   "id": "d8915bae",
   "metadata": {},
   "outputs": [
    {
     "name": "stderr",
     "output_type": "stream",
     "text": [
      "[*********************100%%**********************]  1 of 1 completed\n",
      "[*********************100%%**********************]  1 of 1 completed\n",
      "[*********************100%%**********************]  1 of 1 completed\n",
      "[*********************100%%**********************]  1 of 1 completed\n",
      "[*********************100%%**********************]  1 of 1 completed\n"
     ]
    }
   ],
   "source": [
    "sma_low = 9\n",
    "sma_high = 27\n",
    "ema_low = 8\n",
    "ema_high = 21\n",
    "yf_dn_obj = dn.yf_dn.yf_data\n",
    "dt5 = {}\n",
    "for symbol in sym:\n",
    "    data = yf_dn_obj(self=symbol, symbol=symbol)\n",
    "    sma_data = ta.sma(data[\"Close\"], length = sma_low)\n",
    "    sma_h_data = ta.sma(data[\"Close\"], length = sma_high)\n",
    "    data[f'SMA{sma_low}'] = sma_data\n",
    "    data[f'SMA{sma_high}'] = sma_h_data\n",
    "    ema_data = ta.ema(data[\"Close\"], length =ema_low)\n",
    "    ema_h_data = ta.ema(data[\"Close\"], length =ema_high)\n",
    "    data[f'EMA{ema_low}'] = ema_data\n",
    "    data[f'EMA{ema_high}'] = ema_h_data\n",
    "    data.dropna(inplace=True)\n",
    "    columns = ['Adj Close']\n",
    "    data.drop(columns=columns, inplace=True)\n",
    "    dt5[symbol] = data\n",
    "  \n"
   ]
  },
  {
   "cell_type": "code",
   "execution_count": 21,
   "id": "82116671",
   "metadata": {},
   "outputs": [
    {
     "data": {
      "text/html": [
       "<div>\n",
       "<style scoped>\n",
       "    .dataframe tbody tr th:only-of-type {\n",
       "        vertical-align: middle;\n",
       "    }\n",
       "\n",
       "    .dataframe tbody tr th {\n",
       "        vertical-align: top;\n",
       "    }\n",
       "\n",
       "    .dataframe thead th {\n",
       "        text-align: right;\n",
       "    }\n",
       "</style>\n",
       "<table border=\"1\" class=\"dataframe\">\n",
       "  <thead>\n",
       "    <tr style=\"text-align: right;\">\n",
       "      <th></th>\n",
       "      <th>Open</th>\n",
       "      <th>High</th>\n",
       "      <th>Low</th>\n",
       "      <th>Close</th>\n",
       "      <th>Volume</th>\n",
       "      <th>SMA9</th>\n",
       "      <th>SMA27</th>\n",
       "      <th>EMA8</th>\n",
       "      <th>EMA21</th>\n",
       "    </tr>\n",
       "    <tr>\n",
       "      <th>Datetime</th>\n",
       "      <th></th>\n",
       "      <th></th>\n",
       "      <th></th>\n",
       "      <th></th>\n",
       "      <th></th>\n",
       "      <th></th>\n",
       "      <th></th>\n",
       "      <th></th>\n",
       "      <th></th>\n",
       "    </tr>\n",
       "  </thead>\n",
       "  <tbody>\n",
       "    <tr>\n",
       "      <th>2023-12-26 11:25:00+05:30</th>\n",
       "      <td>995.0</td>\n",
       "      <td>995.700012</td>\n",
       "      <td>994.900024</td>\n",
       "      <td>995.200012</td>\n",
       "      <td>127973</td>\n",
       "      <td>995.300001</td>\n",
       "      <td>993.648148</td>\n",
       "      <td>995.085979</td>\n",
       "      <td>994.045557</td>\n",
       "    </tr>\n",
       "  </tbody>\n",
       "</table>\n",
       "</div>"
      ],
      "text/plain": [
       "                            Open        High         Low       Close  Volume  \\\n",
       "Datetime                                                                       \n",
       "2023-12-26 11:25:00+05:30  995.0  995.700012  994.900024  995.200012  127973   \n",
       "\n",
       "                                 SMA9       SMA27        EMA8       EMA21  \n",
       "Datetime                                                                   \n",
       "2023-12-26 11:25:00+05:30  995.300001  993.648148  995.085979  994.045557  "
      ]
     },
     "execution_count": 21,
     "metadata": {},
     "output_type": "execute_result"
    }
   ],
   "source": [
    "dt5['ICICIBANK.NS'][:1]"
   ]
  },
  {
   "cell_type": "code",
   "execution_count": null,
   "id": "81f21371",
   "metadata": {},
   "outputs": [],
   "source": []
  }
 ],
 "metadata": {
  "kernelspec": {
   "display_name": "Python 3 (ipykernel)",
   "language": "python",
   "name": "python3"
  },
  "language_info": {
   "codemirror_mode": {
    "name": "ipython",
    "version": 3
   },
   "file_extension": ".py",
   "mimetype": "text/x-python",
   "name": "python",
   "nbconvert_exporter": "python",
   "pygments_lexer": "ipython3",
   "version": "3.11.7"
  }
 },
 "nbformat": 4,
 "nbformat_minor": 5
}
