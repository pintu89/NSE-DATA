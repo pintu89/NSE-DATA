{
 "cells": [
  {
   "cell_type": "code",
   "execution_count": 1,
   "id": "9956e51e",
   "metadata": {},
   "outputs": [
    {
     "name": "stderr",
     "output_type": "stream",
     "text": [
      "c:\\Users\\HP\\OneDrive\\Code_Play\\Lib\\site-packages\\yfinance\\base.py:48: FutureWarning: The default dtype for empty Series will be 'object' instead of 'float64' in a future version. Specify a dtype explicitly to silence this warning.\n",
      "  _empty_series = pd.Series()\n"
     ]
    }
   ],
   "source": [
    "import pandas as pd\n",
    "import Read_file as rf\n",
    "import datetime as dt\n",
    "import Dn_dt as dn\n",
    "import matplotlib.pyplot as plt\n",
    "import Tech_Indi as td"
   ]
  },
  {
   "cell_type": "code",
   "execution_count": 2,
   "id": "b45512e2",
   "metadata": {},
   "outputs": [],
   "source": [
    "data = rf.Read_xlsx_File.Read_xlsx_File(\"../Data_File/sym_data/NIFTY.xlsx\", int(input(\"0 = NFITY50\\n1 = NIFTY100\\n2 = NFITY200\\n3 = NIFTY-NEXT50\\n4 = Please inter your symbols in Port_folio1 and numbers are continues.5 6 7\\n Please enter your Choice: \")))\n",
    "symbols = rf.Read_xlsx_File.symbols(data)\n",
    "sym = symbols[:5]"
   ]
  },
  {
   "cell_type": "markdown",
   "id": "86aa4025",
   "metadata": {},
   "source": [
    "## TODO: \n",
    "    RSI and MACD Or Bollinger Bands Strategy."
   ]
  },
  {
   "cell_type": "code",
   "execution_count": 3,
   "id": "d8915bae",
   "metadata": {},
   "outputs": [
    {
     "name": "stderr",
     "output_type": "stream",
     "text": [
      "[*********************100%%**********************]  1 of 1 completed\n"
     ]
    },
    {
     "ename": "NameError",
     "evalue": "name 'Perpus' is not defined",
     "output_type": "error",
     "traceback": [
      "\u001b[1;31m---------------------------------------------------------------------------\u001b[0m",
      "\u001b[1;31mNameError\u001b[0m                                 Traceback (most recent call last)",
      "Cell \u001b[1;32mIn[3], line 21\u001b[0m\n\u001b[0;32m     19\u001b[0m rsi \u001b[38;5;241m=\u001b[39m tech_model\u001b[38;5;241m.\u001b[39mRSI(df\u001b[38;5;241m=\u001b[39mdata, window\u001b[38;5;241m=\u001b[39mperiod)\n\u001b[0;32m     20\u001b[0m \u001b[38;5;66;03m# TODO: Working on it...\u001b[39;00m\n\u001b[1;32m---> 21\u001b[0m data[\u001b[38;5;124m'\u001b[39m\u001b[38;5;124mPosition\u001b[39m\u001b[38;5;124m'\u001b[39m] \u001b[38;5;241m=\u001b[39m data\u001b[38;5;241m.\u001b[39mapply(\u001b[43mPerpus\u001b[49m, axis\u001b[38;5;241m=\u001b[39m\u001b[38;5;241m1\u001b[39m)\n\u001b[0;32m     23\u001b[0m \u001b[38;5;66;03m# Dropping empty values and converting to dictionary.\u001b[39;00m\n\u001b[0;32m     25\u001b[0m data\u001b[38;5;241m.\u001b[39mdropna(inplace\u001b[38;5;241m=\u001b[39m\u001b[38;5;28;01mTrue\u001b[39;00m)\n",
      "\u001b[1;31mNameError\u001b[0m: name 'Perpus' is not defined"
     ]
    }
   ],
   "source": [
    "sma_low = 10\n",
    "sma_high = 27\n",
    "ema_low = 7\n",
    "ema_high = 15\n",
    "period = 14\n",
    "yf_dn_obj = dn.yf_dn.yf_data\n",
    "dt5 = {}\n",
    "for symbol in sym:\n",
    "    data = yf_dn_obj(self = symbol, symbol=symbol)\n",
    "    #Technical Indicators\n",
    "    tech_model = td.Tech_model()\n",
    "\n",
    "    #SMA\n",
    "    low_sma, high_sma = tech_model.SMA(df=data, low_timeperiod=sma_low, high_timeperiod=sma_high)\n",
    "    \n",
    "    #EMA\n",
    "    low_ema, high_ema = tech_model.EMA(df=data, low_timeperiod=ema_low, high_timeperiod=ema_high)\n",
    "    #RSI\n",
    "    rsi = tech_model.RSI(df=data, window=period)\n",
    "    # TODO: Working on it...\n",
    "    data['Position'] = data.apply(tech_model.Perpus, axis=1)\n",
    "    \n",
    "    # Dropping empty values and converting to dictionary.\n",
    "    \n",
    "    data.dropna(inplace=True)\n",
    "    columns = ['Adj Close']\n",
    "    data.drop(columns=columns, inplace=True)\n",
    "    dt5[symbol] = data\n",
    "    '''\n",
    "    # FIXME: Plotting This is working for ploting data with different symbols wise data.\n",
    "    plt.figure(figsize=(10, 6))\n",
    "    plt.plot(data.index, data[\"Close\"], label='Close Price', color='blue')\n",
    "    #plt.plot(data.index, data[\"Low\"], label='Low Price', color='black')\n",
    "    plt.plot(data.index, data[f'SMA{sma_low}'], label=f'SMA{sma_low}', color='red')\n",
    "    plt.plot(data.index, data[f'SMA{sma_high}'], label=f'SMA{sma_high}', color='green')\n",
    "    plt.plot(data.index, data[f'EMA{ema_low}'], label=f'EMA{ema_low}', color='orange')\n",
    "    plt.plot(data.index, data[f'EMA{ema_high}'], label=f'EMA{ema_high}', color='purple')\n",
    "    plt.title(f'{symbol} Close Price with SMAs and EMAs')\n",
    "    plt.xlabel('Date')\n",
    "    plt.ylabel('Price')\n",
    "    plt.legend()\n",
    "    plt.show()\n",
    "    '''\n"
   ]
  },
  {
   "cell_type": "code",
   "execution_count": null,
   "id": "223b5afe",
   "metadata": {},
   "outputs": [
    {
     "data": {
      "text/html": [
       "<div>\n",
       "<style scoped>\n",
       "    .dataframe tbody tr th:only-of-type {\n",
       "        vertical-align: middle;\n",
       "    }\n",
       "\n",
       "    .dataframe tbody tr th {\n",
       "        vertical-align: top;\n",
       "    }\n",
       "\n",
       "    .dataframe thead th {\n",
       "        text-align: right;\n",
       "    }\n",
       "</style>\n",
       "<table border=\"1\" class=\"dataframe\">\n",
       "  <thead>\n",
       "    <tr style=\"text-align: right;\">\n",
       "      <th></th>\n",
       "      <th>Open</th>\n",
       "      <th>High</th>\n",
       "      <th>Low</th>\n",
       "      <th>Close</th>\n",
       "      <th>Volume</th>\n",
       "      <th>SMA_10</th>\n",
       "      <th>SMA_27</th>\n",
       "      <th>EMA_7</th>\n",
       "      <th>EMA_15</th>\n",
       "      <th>RSI_14</th>\n",
       "    </tr>\n",
       "    <tr>\n",
       "      <th>Datetime</th>\n",
       "      <th></th>\n",
       "      <th></th>\n",
       "      <th></th>\n",
       "      <th></th>\n",
       "      <th></th>\n",
       "      <th></th>\n",
       "      <th></th>\n",
       "      <th></th>\n",
       "      <th></th>\n",
       "      <th></th>\n",
       "    </tr>\n",
       "  </thead>\n",
       "  <tbody>\n",
       "    <tr>\n",
       "      <th>2024-02-23 15:05:00+05:30</th>\n",
       "      <td>443.899994</td>\n",
       "      <td>444.700012</td>\n",
       "      <td>443.700012</td>\n",
       "      <td>444.399994</td>\n",
       "      <td>148567</td>\n",
       "      <td>445.004996</td>\n",
       "      <td>445.004996</td>\n",
       "      <td>444.791378</td>\n",
       "      <td>444.791378</td>\n",
       "      <td>47.060425</td>\n",
       "    </tr>\n",
       "    <tr>\n",
       "      <th>2024-02-23 15:10:00+05:30</th>\n",
       "      <td>444.500000</td>\n",
       "      <td>444.700012</td>\n",
       "      <td>443.700012</td>\n",
       "      <td>443.950012</td>\n",
       "      <td>216597</td>\n",
       "      <td>444.884998</td>\n",
       "      <td>444.884998</td>\n",
       "      <td>444.638402</td>\n",
       "      <td>444.638402</td>\n",
       "      <td>43.851331</td>\n",
       "    </tr>\n",
       "    <tr>\n",
       "      <th>2024-02-23 15:15:00+05:30</th>\n",
       "      <td>443.750000</td>\n",
       "      <td>444.100006</td>\n",
       "      <td>442.899994</td>\n",
       "      <td>443.399994</td>\n",
       "      <td>281656</td>\n",
       "      <td>444.634998</td>\n",
       "      <td>444.634998</td>\n",
       "      <td>444.413237</td>\n",
       "      <td>444.413237</td>\n",
       "      <td>40.239356</td>\n",
       "    </tr>\n",
       "    <tr>\n",
       "      <th>2024-02-23 15:20:00+05:30</th>\n",
       "      <td>443.399994</td>\n",
       "      <td>444.549988</td>\n",
       "      <td>443.250000</td>\n",
       "      <td>444.350006</td>\n",
       "      <td>209779</td>\n",
       "      <td>444.514999</td>\n",
       "      <td>444.514999</td>\n",
       "      <td>444.401741</td>\n",
       "      <td>444.401741</td>\n",
       "      <td>48.179054</td>\n",
       "    </tr>\n",
       "    <tr>\n",
       "      <th>2024-02-23 15:25:00+05:30</th>\n",
       "      <td>444.299988</td>\n",
       "      <td>444.299988</td>\n",
       "      <td>443.000000</td>\n",
       "      <td>444.200012</td>\n",
       "      <td>199955</td>\n",
       "      <td>444.370001</td>\n",
       "      <td>444.370001</td>\n",
       "      <td>444.365063</td>\n",
       "      <td>444.365063</td>\n",
       "      <td>47.114728</td>\n",
       "    </tr>\n",
       "  </tbody>\n",
       "</table>\n",
       "</div>"
      ],
      "text/plain": [
       "                                 Open        High         Low       Close  \\\n",
       "Datetime                                                                    \n",
       "2024-02-23 15:05:00+05:30  443.899994  444.700012  443.700012  444.399994   \n",
       "2024-02-23 15:10:00+05:30  444.500000  444.700012  443.700012  443.950012   \n",
       "2024-02-23 15:15:00+05:30  443.750000  444.100006  442.899994  443.399994   \n",
       "2024-02-23 15:20:00+05:30  443.399994  444.549988  443.250000  444.350006   \n",
       "2024-02-23 15:25:00+05:30  444.299988  444.299988  443.000000  444.200012   \n",
       "\n",
       "                           Volume      SMA_10      SMA_27       EMA_7  \\\n",
       "Datetime                                                                \n",
       "2024-02-23 15:05:00+05:30  148567  445.004996  445.004996  444.791378   \n",
       "2024-02-23 15:10:00+05:30  216597  444.884998  444.884998  444.638402   \n",
       "2024-02-23 15:15:00+05:30  281656  444.634998  444.634998  444.413237   \n",
       "2024-02-23 15:20:00+05:30  209779  444.514999  444.514999  444.401741   \n",
       "2024-02-23 15:25:00+05:30  199955  444.370001  444.370001  444.365063   \n",
       "\n",
       "                               EMA_15     RSI_14  \n",
       "Datetime                                          \n",
       "2024-02-23 15:05:00+05:30  444.791378  47.060425  \n",
       "2024-02-23 15:10:00+05:30  444.638402  43.851331  \n",
       "2024-02-23 15:15:00+05:30  444.413237  40.239356  \n",
       "2024-02-23 15:20:00+05:30  444.401741  48.179054  \n",
       "2024-02-23 15:25:00+05:30  444.365063  47.114728  "
      ]
     },
     "execution_count": 4,
     "metadata": {},
     "output_type": "execute_result"
    }
   ],
   "source": [
    "dt5['COALINDIA.NS'].tail()"
   ]
  },
  {
   "cell_type": "code",
   "execution_count": null,
   "id": "72151a30",
   "metadata": {},
   "outputs": [],
   "source": []
  },
  {
   "cell_type": "code",
   "execution_count": null,
   "id": "a01b4f40",
   "metadata": {},
   "outputs": [],
   "source": []
  },
  {
   "cell_type": "code",
   "execution_count": null,
   "id": "2ad1e64e",
   "metadata": {},
   "outputs": [],
   "source": []
  }
 ],
 "metadata": {
  "kernelspec": {
   "display_name": "Python 3 (ipykernel)",
   "language": "python",
   "name": "python3"
  },
  "language_info": {
   "codemirror_mode": {
    "name": "ipython",
    "version": 3
   },
   "file_extension": ".py",
   "mimetype": "text/x-python",
   "name": "python",
   "nbconvert_exporter": "python",
   "pygments_lexer": "ipython3",
   "version": "3.11.7"
  }
 },
 "nbformat": 4,
 "nbformat_minor": 5
}
