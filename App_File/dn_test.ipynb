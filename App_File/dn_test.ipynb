{
 "cells": [
  {
   "cell_type": "code",
   "execution_count": null,
   "id": "9956e51e",
   "metadata": {},
   "outputs": [],
   "source": [
    "import pandas as pd\n",
    "import Read_file as rf\n",
    "import datetime as dt\n",
    "import Dn_dt as dn\n",
    "import Tech_Indi as td"
   ]
  },
  {
   "cell_type": "code",
   "execution_count": null,
   "id": "b45512e2",
   "metadata": {},
   "outputs": [],
   "source": [
    "data = rf.Read_xlsx_File.Read_xlsx_File(\"../Data_File/sym_data/NIFTY.xlsx\", int(input(\"0 = NFITY50\\n1 = NIFTY100\\n2 = NFITY200\\n3 = NIFTY-NEXT50\\n4 = Please inter your symbols in Port_folio1 and numbers are continues.5 6 7\\n Please enter your Choice: \")))\n",
    "symbols = rf.Read_xlsx_File.symbols(data)\n",
    "sym = symbols[:5]"
   ]
  },
  {
   "cell_type": "code",
   "execution_count": null,
   "id": "e8985c3d",
   "metadata": {},
   "outputs": [],
   "source": [
    "Tfile = input(\"0: historical_data,\\n1: 5min_data,\\nEnter your choice: \")\n",
    "file_path = \"../Data_File/hisdata\"\n",
    "if Tfile == \"0\":\n",
    "    file_path = \"../Data_File/hisdata/hdata/\"\n",
    "elif Tfile == \"1\":\n",
    "    file_path = \"../Data_File/hisdata/5min_data\"\n",
    "else:\n",
    "    pass"
   ]
  },
  {
   "cell_type": "code",
   "execution_count": null,
   "id": "42dc2337",
   "metadata": {},
   "outputs": [],
   "source": [
    "def golden_cross_strategy(data, sma_low, sma_high): # golden cross strategy is not working.\n",
    "    # Generate signals\n",
    "    data['Buy'] = 0\n",
    "    data['Sell'] = 0\n",
    "    buy_flag = False\n",
    "    sell_flag = False\n",
    "    \n",
    "    for i in range(len(data)):\n",
    "        if not buy_flag:\n",
    "            # Check for Golden Cross\n",
    "            if data[f'SMA_{sma_low}'].iloc[i] > data[f'SMA_{sma_high}'].iloc[i]:\n",
    "                data.at[data.index[i], 'Buy'] = 1\n",
    "                buy_flag = True\n",
    "        else:\n",
    "            # Check for Death Cross\n",
    "            if data[f'SMA_{sma_high}'].iloc[i] > data[f'SMA_{sma_low}'].iloc[i]:\n",
    "                data.at[data.index[i], 'Sell'] = -1\n",
    "                buy_flag = False\n",
    "    \n",
    "    return data\n",
    "\n",
    "def rsi_strategy(data, periods):\n",
    "    data['Buy'] = 0\n",
    "    data['Sell'] = 0\n",
    "    buy_flag = False\n",
    "    \n",
    "    for i in range(len(data)):\n",
    "        if not buy_flag:\n",
    "            # Check for Golden Cross\n",
    "            if data[f'RSI_{period}'].iloc[i] < 35:\n",
    "                data.at[data.index[i], 'Buy'] = 1\n",
    "                buy_flag = True\n",
    "                sell_flag = False\n",
    "        elif not sell_flag:\n",
    "            # Check for Death Cross\n",
    "            if data[f'RSI_{period}'].iloc[i] > 65:\n",
    "                data.at[data.index[i], 'Sell'] = -1\n",
    "                buy_flag = False\n",
    "                sell_flag = True\n",
    "    \n",
    "    return data\n",
    "\n",
    "\n",
    "\n",
    "'''    \n",
    "    # Buy signal (Golden Cross)\n",
    "    data.loc[data[f'SMA_{sma_low}'] > data[f'SMA_{sma_high}'], 'Buy'] = 1  \n",
    "    # Sell signal (Death Cross)\n",
    "    data.loc[data[f'SMA_{sma_high}'] > data[f'SMA_{sma_low}'], 'Sell'] = -1\n",
    "    # Sell signal (RSI overbought)\n",
    "    data.loc[data[f'RSI_{period}'] > 65, 'Sell'] = -1  \n",
    "    # Buy signal (RSI oversold)\n",
    "    data.loc[data[f'RSI_{period}'] < 35, 'Buy'] = 1  \n",
    "    \n",
    "    return data\n",
    "'''\n"
   ]
  },
  {
   "cell_type": "code",
   "execution_count": null,
   "id": "2a1340e9",
   "metadata": {},
   "outputs": [],
   "source": [
    "def calculate_wealth(signals, data, wealth):\n",
    "    # Initialize buy and sell variables\n",
    "    buy_price = None\n",
    "    sell_price = None\n",
    "    in_position = False  # Flag to track if currently in a position (buy)\n",
    "\n",
    "    # Initialize variables for tracking total gain and number of trades\n",
    "    total_gain = 0\n",
    "    num_trades = 0\n",
    "\n",
    "    # Iterate through signals\n",
    "    for index, row in signals.iterrows():\n",
    "        if row['Buy'] == 1 and not in_position:  # Buy signal and not in a position\n",
    "            if 'Close' in data:  # Check if 'Close' column exists\n",
    "                buy_price = data.loc[index, 'Close']\n",
    "                in_position = True  # Set flag to true\n",
    "        elif row['Sell'] == -1 and in_position:  # Sell signal and in a position\n",
    "            if 'Close' in data:  # Check if 'Close' column exists\n",
    "                sell_price = data.loc[index, 'Close']\n",
    "                gain = (sell_price - buy_price)  # Calculate gain\n",
    "                total_gain += gain\n",
    "                num_trades += 1\n",
    "                # Reset buy and sell prices and position flag\n",
    "                buy_price = None\n",
    "                sell_price = None\n",
    "                in_position = False  # Set flag to false\n",
    "\n",
    "    # Calculate final wealth\n",
    "    final_wealth = wealth + total_gain\n",
    "\n",
    "    # Return total gain and final wealth\n",
    "    return total_gain, final_wealth\n"
   ]
  },
  {
   "cell_type": "code",
   "execution_count": null,
   "id": "3778f0fe",
   "metadata": {},
   "outputs": [],
   "source": [
    "import matplotlib.pyplot as plt\n",
    "\n",
    "def plot_signals(dataframe, symbol):\n",
    "    # Plotting the Close price\n",
    "    plt.figure(figsize=(12, 6))\n",
    "    plt.plot(dataframe[symbol].index, dataframe[symbol]['Close'], label='Close Price', color='blue')\n",
    "\n",
    "    # Plotting Buy signals\n",
    "    plt.plot(dataframe[symbol][dataframe[symbol]['Buy'] == 1].index,\n",
    "             dataframe[symbol]['Close'][dataframe[symbol]['Buy'] == 1],\n",
    "             '^', markersize=10, color='green', lw=0, label='Buy Signal')\n",
    "\n",
    "    # Plotting Sell signals\n",
    "    plt.plot(dataframe[symbol][dataframe[symbol]['Sell'] == -1].index,\n",
    "             dataframe[symbol]['Close'][dataframe[symbol]['Sell'] == -1],\n",
    "             'v', markersize=10, color='red', lw=0, label='Sell Signal')\n",
    "\n",
    "    plt.title('Golden Cross and RSI Strategy Signals')\n",
    "    plt.xlabel('Date')\n",
    "    plt.ylabel('Close Price')\n",
    "    plt.legend()\n",
    "    plt.show()\n",
    "\n",
    "# Example usage:\n",
    "# plot_signals(dt5, 'AAPL')  # Assuming 'dt5' is your dataframe and 'AAPL' is the symbol\n"
   ]
  },
  {
   "cell_type": "code",
   "execution_count": null,
   "id": "561d2260",
   "metadata": {},
   "outputs": [],
   "source": [
    "wealth = 500\n",
    "sma_low = 50\n",
    "sma_high = 200\n",
    "period = 14\n",
    "dt5 = {}\n",
    "for symbol in symbols:\n",
    "    tech_model = td.Tech_model()\n",
    "    try:\n",
    "        # Assuming the file names are in the format 'hisdata/symbol.xlsx'\n",
    "        file = f\"{file_path}/{symbol}.xlsx\"\n",
    "        Hdata = rf.Read_xlsx_File.Read_xlsx_File(file)\n",
    "        # Do something with Hdata\n",
    "        #SMA\n",
    "        low_sma, high_sma = tech_model.SMA(df=Hdata, low_timeperiod=sma_low, high_timeperiod=sma_high)\n",
    "        #RSI\n",
    "        rsi = tech_model.RSI(df=Hdata, window=period)\n",
    "        #Position of Up or Down.\n",
    "        Hdata['Position'] = Hdata.apply(tech_model.Perpus, axis=1)\n",
    "        # Dropping empty values and converting to dictionary.\n",
    "        Hdata.dropna(inplace=True)\n",
    "        columns = ['Adj Close']\n",
    "        dt5[symbol] = Hdata\n",
    "        #Call the function to get signals for each symbol.    \n",
    "        sig1 = golden_cross_strategy(dt5[symbol], sma_low, sma_high)\n",
    "        #sig2 = rsi_strategy(dt5[symbol],period)\n",
    "        total_gain1, final_wealth1 = calculate_wealth(sig1, dt5[symbol], wealth)\n",
    "        #total_gain2, final_wealth2 = calculate_wealth(sig2, dt5[symbol], wealth)\n",
    "        print(f\"Total gain in wealth by :{symbol} Rs. {total_gain1}, {final_wealth1}\")\n",
    "        #plot_signals(dt5, symbol)\n",
    "        \n",
    "    except FileNotFoundError:\n",
    "        pass\n",
    "        #print(f\"File for {symbol} not found.\")"
   ]
  },
  {
   "cell_type": "code",
   "execution_count": null,
   "id": "ca6e91ae",
   "metadata": {},
   "outputs": [],
   "source": []
  },
  {
   "cell_type": "code",
   "execution_count": null,
   "id": "379b4d0c",
   "metadata": {},
   "outputs": [],
   "source": []
  },
  {
   "cell_type": "code",
   "execution_count": null,
   "id": "e849adc0",
   "metadata": {},
   "outputs": [],
   "source": [
    "print(dt5['CIPLA.NS'][f'SMA_{sma_low}'])"
   ]
  },
  {
   "cell_type": "code",
   "execution_count": null,
   "id": "8cf42113",
   "metadata": {},
   "outputs": [],
   "source": [
    "print(dt5['CIPLA.NS'][['SMA_50', 'SMA_200', 'RSI_14']])\n"
   ]
  },
  {
   "cell_type": "code",
   "execution_count": null,
   "id": "5006ba25",
   "metadata": {},
   "outputs": [],
   "source": [
    "sma_low = 50\n",
    "sma_high = 200\n",
    "period = 14\n",
    "\n",
    "signals = golden_cross_strategy(dt5['CIPLA.NS'], sma_low, sma_high, period)\n",
    "(dt5)"
   ]
  },
  {
   "cell_type": "code",
   "execution_count": null,
   "id": "d3df98b6",
   "metadata": {},
   "outputs": [],
   "source": [
    "\n",
    "\n"
   ]
  },
  {
   "cell_type": "code",
   "execution_count": null,
   "id": "879ac9d0",
   "metadata": {},
   "outputs": [],
   "source": [
    "hellow"
   ]
  },
  {
   "cell_type": "markdown",
   "id": "86aa4025",
   "metadata": {},
   "source": [
    "## TODO: \n",
    "    RSI and MACD Or Bollinger Bands Strategy."
   ]
  },
  {
   "cell_type": "code",
   "execution_count": null,
   "id": "d8915bae",
   "metadata": {},
   "outputs": [],
   "source": [
    "sma_low = 10\n",
    "sma_high = 27\n",
    "ema_low = 7\n",
    "ema_high = 15\n",
    "period = 14\n",
    "yf_dn_obj = dn.yf_dn.yf_data\n",
    "dt5 = {}\n",
    "for symbol in sym:\n",
    "    data = yf_dn_obj(self = symbol, symbol=symbol)\n",
    "    #Technical Indicators\n",
    "    tech_model = td.Tech_model()\n",
    "    \n",
    "    #SMA\n",
    "    low_sma, high_sma = tech_model.SMA(df=data, low_timeperiod=sma_low, high_timeperiod=sma_high)\n",
    "    #EMA\n",
    "    low_ema, high_ema = tech_model.EMA(df=data, low_timeperiod=ema_low, high_timeperiod=ema_high)\n",
    "    #RSI\n",
    "    rsi = tech_model.RSI(df=data, window=period)\n",
    "    #Position of Up or Down.\n",
    "    data['Position'] = data.apply(tech_model.Perpus, axis=1)\n",
    "    \n",
    "    # Dropping empty values and converting to dictionary.\n",
    "    data.dropna(inplace=True)\n",
    "    columns = ['Adj Close']\n",
    "    data.drop(columns=columns, inplace=True)\n",
    "    dt5[symbol] = data\n",
    "    '''\n",
    "    # FIXME: Plotting This is working for ploting data with different symbols wise data.\n",
    "    plt.figure(figsize=(10, 6))\n",
    "    plt.plot(data.index, data[\"Close\"], label='Close Price', color='blue')\n",
    "    #plt.plot(data.index, data[\"Low\"], label='Low Price', color='black')\n",
    "    plt.plot(data.index, data[f'SMA{sma_low}'], label=f'SMA{sma_low}', color='red')\n",
    "    plt.plot(data.index, data[f'SMA{sma_high}'], label=f'SMA{sma_high}', color='green')\n",
    "    plt.plot(data.index, data[f'EMA{ema_low}'], label=f'EMA{ema_low}', color='orange')\n",
    "    plt.plot(data.index, data[f'EMA{ema_high}'], label=f'EMA{ema_high}', color='purple')\n",
    "    plt.title(f'{symbol} Close Price with SMAs and EMAs')\n",
    "    plt.xlabel('Date')\n",
    "    plt.ylabel('Price')\n",
    "    plt.legend()\n",
    "    plt.show()\n",
    "    '''\n"
   ]
  },
  {
   "cell_type": "code",
   "execution_count": null,
   "id": "223b5afe",
   "metadata": {},
   "outputs": [],
   "source": [
    "print (len(dt5['COALINDIA.NS']))"
   ]
  },
  {
   "cell_type": "code",
   "execution_count": null,
   "id": "72151a30",
   "metadata": {},
   "outputs": [],
   "source": []
  },
  {
   "cell_type": "code",
   "execution_count": null,
   "id": "a01b4f40",
   "metadata": {},
   "outputs": [],
   "source": []
  },
  {
   "cell_type": "code",
   "execution_count": null,
   "id": "2ad1e64e",
   "metadata": {},
   "outputs": [],
   "source": []
  }
 ],
 "metadata": {
  "kernelspec": {
   "display_name": "Python 3 (ipykernel)",
   "language": "python",
   "name": "python3"
  },
  "language_info": {
   "codemirror_mode": {
    "name": "ipython",
    "version": 3
   },
   "file_extension": ".py",
   "mimetype": "text/x-python",
   "name": "python",
   "nbconvert_exporter": "python",
   "pygments_lexer": "ipython3",
   "version": "3.11.7"
  }
 },
 "nbformat": 4,
 "nbformat_minor": 5
}
